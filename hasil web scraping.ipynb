{
 "cells": [
  {
   "cell_type": "code",
   "execution_count": 31,
   "id": "52e5b316",
   "metadata": {},
   "outputs": [],
   "source": [
    "from selenium import webdriver\n",
    "from selenium.webdriver.common.by import By\n",
    "from selenium.webdriver.firefox.options import Options\n",
    "import pandas as pd"
   ]
  },
  {
   "cell_type": "code",
   "execution_count": 32,
   "id": "87980a5b",
   "metadata": {},
   "outputs": [],
   "source": [
    "driver = webdriver.Firefox(options= Options())\n"
   ]
  },
  {
   "cell_type": "code",
   "execution_count": 58,
   "id": "a1be2421",
   "metadata": {},
   "outputs": [
    {
     "data": {
      "text/html": [
       "<div>\n",
       "<style scoped>\n",
       "    .dataframe tbody tr th:only-of-type {\n",
       "        vertical-align: middle;\n",
       "    }\n",
       "\n",
       "    .dataframe tbody tr th {\n",
       "        vertical-align: top;\n",
       "    }\n",
       "\n",
       "    .dataframe thead th {\n",
       "        text-align: right;\n",
       "    }\n",
       "</style>\n",
       "<table border=\"1\" class=\"dataframe\">\n",
       "  <thead>\n",
       "    <tr style=\"text-align: right;\">\n",
       "      <th></th>\n",
       "      <th>Nama Tumbuhan</th>\n",
       "      <th>Nama Latin</th>\n",
       "    </tr>\n",
       "  </thead>\n",
       "  <tbody>\n",
       "    <tr>\n",
       "      <th>0</th>\n",
       "      <td>Alpukat</td>\n",
       "      <td>Persea americana</td>\n",
       "    </tr>\n",
       "    <tr>\n",
       "      <th>1</th>\n",
       "      <td>Apel</td>\n",
       "      <td>Pyrus malus</td>\n",
       "    </tr>\n",
       "    <tr>\n",
       "      <th>2</th>\n",
       "      <td>Belimbing Manis</td>\n",
       "      <td>Averrhoa carambola</td>\n",
       "    </tr>\n",
       "    <tr>\n",
       "      <th>3</th>\n",
       "      <td>Belimbing Wuluh</td>\n",
       "      <td>Averrhoa bilimbi</td>\n",
       "    </tr>\n",
       "    <tr>\n",
       "      <th>4</th>\n",
       "      <td>Ceremai</td>\n",
       "      <td>Phyllanthus acidus</td>\n",
       "    </tr>\n",
       "    <tr>\n",
       "      <th>...</th>\n",
       "      <td>...</td>\n",
       "      <td>...</td>\n",
       "    </tr>\n",
       "    <tr>\n",
       "      <th>101</th>\n",
       "      <td>Kesambi</td>\n",
       "      <td>Schleichera oleosa</td>\n",
       "    </tr>\n",
       "    <tr>\n",
       "      <th>102</th>\n",
       "      <td>Padi</td>\n",
       "      <td>Oryza sativa</td>\n",
       "    </tr>\n",
       "    <tr>\n",
       "      <th>103</th>\n",
       "      <td>Petai Cina</td>\n",
       "      <td>Leucaena leucocephala</td>\n",
       "    </tr>\n",
       "    <tr>\n",
       "      <th>104</th>\n",
       "      <td>Terung</td>\n",
       "      <td>Solanum melongena</td>\n",
       "    </tr>\n",
       "    <tr>\n",
       "      <th>105</th>\n",
       "      <td>Tuba</td>\n",
       "      <td>Derris elliptica</td>\n",
       "    </tr>\n",
       "  </tbody>\n",
       "</table>\n",
       "<p>106 rows × 2 columns</p>\n",
       "</div>"
      ],
      "text/plain": [
       "       Nama Tumbuhan             Nama Latin\n",
       "0            Alpukat       Persea americana\n",
       "1               Apel            Pyrus malus\n",
       "2    Belimbing Manis     Averrhoa carambola\n",
       "3    Belimbing Wuluh       Averrhoa bilimbi\n",
       "4            Ceremai     Phyllanthus acidus\n",
       "..               ...                    ...\n",
       "101          Kesambi     Schleichera oleosa\n",
       "102             Padi           Oryza sativa\n",
       "103       Petai Cina  Leucaena leucocephala\n",
       "104           Terung      Solanum melongena\n",
       "105             Tuba       Derris elliptica\n",
       "\n",
       "[106 rows x 2 columns]"
      ]
     },
     "execution_count": 58,
     "metadata": {},
     "output_type": "execute_result"
    }
   ],
   "source": [
    "driver.get('https://gurubelajarku.com/nama-latin-tumbuhan/')\n",
    "tbody = driver.find_element(By.XPATH,'/html/body/div[1]/div[1]/div[1]/main/article/div/table[1]/tbody')\n",
    "data = []\n",
    "for tr in tbody.find_elements(By.XPATH,'//tr'):\n",
    "    row = [item.text for item in tr.find_elements(By.XPATH,'.//td')]\n",
    "    data.append(row)\n",
    "df = pd.DataFrame(data)\n",
    "df = pd.DataFrame(data[1:], columns=data[0])\n",
    "df\n"
   ]
  },
  {
   "cell_type": "code",
   "execution_count": null,
   "id": "acda3566",
   "metadata": {},
   "outputs": [],
   "source": []
  }
 ],
 "metadata": {
  "kernelspec": {
   "display_name": "Python 3 (ipykernel)",
   "language": "python",
   "name": "python3"
  },
  "language_info": {
   "codemirror_mode": {
    "name": "ipython",
    "version": 3
   },
   "file_extension": ".py",
   "mimetype": "text/x-python",
   "name": "python",
   "nbconvert_exporter": "python",
   "pygments_lexer": "ipython3",
   "version": "3.11.5"
  }
 },
 "nbformat": 4,
 "nbformat_minor": 5
}
